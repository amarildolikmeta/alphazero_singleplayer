{
 "cells": [
  {
   "cell_type": "markdown",
   "metadata": {},
   "source": [
    "# Building the model\n",
    "A static model is a Python object that represents a Bayesian model with static parameter 𝜃. <br>\n",
    "We are considering a model where the observations are 𝑌𝑡∼𝑁(𝜇,𝜎^2). The parameter is 𝜃=(𝜇,𝜎)"
   ]
  },
  {
   "cell_type": "code",
   "execution_count": 13,
   "metadata": {},
   "outputs": [],
   "source": [
    "%matplotlib inline\n",
    "import warnings; warnings.simplefilter('ignore')  # hide warnings\n",
    "\n",
    "from matplotlib import pyplot as plt\n",
    "import seaborn as sb\n",
    "from scipy import stats\n",
    "import numpy as np\n",
    "\n",
    "import particles\n",
    "from particles import smc_samplers as ssp\n",
    "from particles import distributions as dists\n",
    "\n",
    "class ToyModel(ssp.StaticModel):\n",
    "    def logpyt(self, theta, t):  # density of Y_t given theta and Y_{0:t-1}\n",
    "        return stats.norm.logpdf(self.data[t], loc=theta['mu'],\n",
    "                                 scale=theta['sigma'])"
   ]
  },
  {
   "cell_type": "code",
   "execution_count": 17,
   "metadata": {},
   "outputs": [],
   "source": [
    "T = 1000\n",
    "my_data = stats.norm.rvs(loc=3.14, size=T)  # simulated data\n",
    "my_prior = dists.StructDist({'mu': dists.Normal(scale=10.),\n",
    "                             'sigma': dists.Gamma()})"
   ]
  },
  {
   "cell_type": "code",
   "execution_count": 7,
   "metadata": {},
   "outputs": [],
   "source": [
    "my_static_model = ToyModel(data=my_data, prior=my_prior)"
   ]
  },
  {
   "cell_type": "markdown",
   "metadata": {},
   "source": [
    "Object my_static_model has enough information to define the posterior distribution(s) of the model (given all data, or part of the data). In fact, it inherits from StaticModel method logpost, which evaluates (for a collection of 𝜃 values) the posterior log-density at any time 𝑡 (meaning given data 𝑦0:𝑡)."
   ]
  },
  {
   "cell_type": "code",
   "execution_count": 21,
   "metadata": {},
   "outputs": [
    {
     "data": {
      "text/plain": [
       "array([(-10.6688881 , 3.98144845), ( 13.32292358, 2.39496789),\n",
       "       ( 10.70773259, 1.45241263), (-29.54582253, 0.96203809),\n",
       "       (-13.24768057, 1.50136164)],\n",
       "      dtype=[('mu', '<f8'), ('sigma', '<f8')])"
      ]
     },
     "execution_count": 21,
     "metadata": {},
     "output_type": "execute_result"
    }
   ],
   "source": [
    "thetas = my_prior.rvs(size=5)\n",
    "p = my_static_model.logpost(thetas, t=2)  # if t is omitted, gives the full posterior\n",
    "thetas"
   ]
  },
  {
   "cell_type": "markdown",
   "metadata": {},
   "source": [
    "# Iterated Batch Importance Sampling"
   ]
  },
  {
   "cell_type": "code",
   "execution_count": 11,
   "metadata": {},
   "outputs": [
    {
     "name": "stdout",
     "output_type": "stream",
     "text": [
      "--- IBIS running took 3.7045230865478516 seconds ---\n"
     ]
    }
   ],
   "source": [
    "my_ibis = ssp.IBIS(my_static_model)\n",
    "my_alg = particles.SMC(fk=my_ibis, N=1000, store_history=True) #with store_history the algorithm will store particles\n",
    "import time\n",
    "start_time = time.time()\n",
    "my_alg.run()\n",
    "print(\"--- IBIS running took %s seconds ---\" % (time.time() - start_time))"
   ]
  },
  {
   "cell_type": "markdown",
   "metadata": {},
   "source": [
    "Now plot the posterior distributions at different timesteps"
   ]
  },
  {
   "cell_type": "code",
   "execution_count": 10,
   "metadata": {},
   "outputs": [
    {
     "data": {
      "image/png": "[encoded data removed]",
      "text/plain": [
       "<Figure size 432x288 with 2 Axes>"
      ]
     },
     "metadata": {},
     "output_type": "display_data"
    }
   ],
   "source": [
    "plt.style.use('ggplot')\n",
    "for i, p in enumerate(['mu', 'sigma']):\n",
    "    plt.subplot(1, 2, i + 1)\n",
    "    for t in [100, 300, 900]:\n",
    "        plt.hist(my_alg.hist.X[t].theta[p], weights=my_alg.hist.wgt[t].W, label=\"t=%i\" % t, alpha=0.5, density=True)\n",
    "    plt.xlabel(p)\n",
    "plt.legend();"
   ]
  },
  {
   "cell_type": "markdown",
   "metadata": {},
   "source": [
    "Once the algorithm is run, my_smc.X contains the N final paticles and is a ThetaParticles object, with attributes:\n",
    "<ul>\n",
    "    <li> theta: a structured array: as mentioned above, this is an array with fields; i.e. my_smc.X.theta['mu'] is a (N,) array that contains the the 𝜇−component of the 𝑁 particles;\n",
    "    <li> lpost: a (N,) numpy array that contains the target (posterior) log-density of each of the N particles;\n",
    "    <li> acc_rates: a list of the acceptance rates of the resample-move steps.\n",
    "</ul>"
   ]
  },
  {
   "cell_type": "code",
   "execution_count": 14,
   "metadata": {},
   "outputs": [
    {
     "name": "stdout",
     "output_type": "stream",
     "text": [
      "['18.58%', '23.47%', '26.02%', '28.72%', '33.26%', '35.37%', '34.30%', '34.90%', '34.97%', '35.22%', '35.08%', '35.66%', '36.54%', '37.07%', '36.62%']\n"
     ]
    },
    {
     "data": {
      "image/png": "[encoded data removed]",
      "text/plain": [
       "<Figure size 432x288 with 1 Axes>"
      ]
     },
     "metadata": {
      "needs_background": "light"
     },
     "output_type": "display_data"
    }
   ],
   "source": [
    "print([\"%2.2f%%\" % (100 * np.mean(r)) for r in my_alg.X.acc_rates])\n",
    "plt.hist(my_alg.X.lpost, 30);"
   ]
  },
  {
   "cell_type": "markdown",
   "metadata": {},
   "source": [
    "Class IBIS takes as an optional argument mh_options, a dictionary which may contain the following (key, values) pairs:\n",
    "<ul>\n",
    "    <li>'type_prop': either 'random walk' or 'independent’; in the latter case, an independent Gaussian proposal is used. The mean of the Gaussian is set to the weighted mean of the particles. The variance is set to scale times the weighted variance of the particles.\n",
    "    <li>'scale’: the scale of the proposal (as explained above).\n",
    "    <li>'nsteps': number of steps. If set to 0, the adaptive strategy described above is used.\n",
    "</ul>"
   ]
  },
  {
   "cell_type": "code",
   "execution_count": 15,
   "metadata": {},
   "outputs": [
    {
     "name": "stdout",
     "output_type": "stream",
     "text": [
      "--- Independent proposal IBIS running took 3.065840244293213 seconds ---\n"
     ]
    }
   ],
   "source": [
    "alt_ibis = ssp.IBIS(my_static_model, mh_options={'type_prop': 'independent',\n",
    "                                                 'nsteps': 10})\n",
    "alt_alg = particles.SMC(fk=alt_ibis, N=1000, ESSrmin=0.2)\n",
    "start_time = time.time()\n",
    "alt_alg.run()\n",
    "print(\"--- Independent proposal IBIS running took %s seconds ---\" % (time.time() - start_time))"
   ]
  },
  {
   "cell_type": "markdown",
   "metadata": {},
   "source": [
    "Plot the ESS, as we changed the threshold."
   ]
  },
  {
   "cell_type": "code",
   "execution_count": 16,
   "metadata": {},
   "outputs": [
    {
     "data": {
      "text/plain": [
       "Text(0, 0.5, 'ESS')"
      ]
     },
     "execution_count": 16,
     "metadata": {},
     "output_type": "execute_result"
    },
    {
     "data": {
      "image/png": "[encoded data removed]",
      "text/plain": [
       "<Figure size 432x288 with 1 Axes>"
      ]
     },
     "metadata": {
      "needs_background": "light"
     },
     "output_type": "display_data"
    }
   ],
   "source": [
    "plt.plot(alt_alg.summaries.ESSs)\n",
    "plt.xlabel('t')\n",
    "plt.ylabel('ESS')"
   ]
  },
  {
   "cell_type": "code",
   "execution_count": null,
   "metadata": {},
   "outputs": [],
   "source": []
  }
 ],
 "metadata": {
  "kernelspec": {
   "display_name": "Python 3",
   "language": "python",
   "name": "python3"
  },
  "language_info": {
   "codemirror_mode": {
    "name": "ipython",
    "version": 3
   },
   "file_extension": ".py",
   "mimetype": "text/x-python",
   "name": "python",
   "nbconvert_exporter": "python",
   "pygments_lexer": "ipython3",
   "version": "3.7.6"
  }
 },
 "nbformat": 4,
 "nbformat_minor": 4
}
