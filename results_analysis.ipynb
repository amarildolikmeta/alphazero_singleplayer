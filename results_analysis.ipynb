{
 "metadata": {
  "language_info": {
   "codemirror_mode": {
    "name": "ipython",
    "version": 3
   },
   "file_extension": ".py",
   "mimetype": "text/x-python",
   "name": "python",
   "nbconvert_exporter": "python",
   "pygments_lexer": "ipython3",
   "version": "3.7.0-final"
  },
  "orig_nbformat": 2,
  "kernelspec": {
   "name": "python3",
   "display_name": "Python 3.7.0 64-bit ('race_strat': conda)",
   "metadata": {
    "interpreter": {
     "hash": "6052ee9c3b91a14e87c65e016c328bd2645531eaa0540932cdbb2eb53717eae8"
    }
   }
  }
 },
 "nbformat": 4,
 "nbformat_minor": 2,
 "cells": [
  {
   "cell_type": "code",
   "execution_count": 1,
   "metadata": {},
   "outputs": [],
   "source": [
    "import numpy as np\n",
    "import pandas as pd\n",
    "import seaborn as sns\n",
    "from datetime import datetime\n",
    "import matplotlib.pyplot as plt\n",
    "from tqdm.notebook import tqdm, trange\n",
    "from collections import defaultdict\n",
    "import os"
   ]
  },
  {
   "cell_type": "code",
   "execution_count": 2,
   "metadata": {},
   "outputs": [],
   "source": [
    "MAX_P = [1]\n",
    "PROB_1 = [0.95, 0.05]\n",
    "PROB_2 = [0.95, 0.025, 0.025]\n",
    "PROB_3 = [0.91, 0.03, 0.03, 0.03]\n",
    "PROBS = {1: MAX_P, 2: PROB_1, 3: PROB_2, 4: PROB_3}\n",
    "MCS_PARS_FILE = 'pars_mcs.ini'"
   ]
  },
  {
   "cell_type": "code",
   "execution_count": 3,
   "metadata": {},
   "outputs": [],
   "source": [
    "import scipy.stats\n",
    "\n",
    "def mean_confidence_interval(data, confidence=0.95):\n",
    "    a = 1.0 * np.array(data)\n",
    "    n = len(a)\n",
    "    m, se = np.mean(a), scipy.stats.sem(a)\n",
    "    h = se * scipy.stats.t.ppf((1 + confidence) / 2., n-1)\n",
    "    return m, h, m-h, m+h"
   ]
  },
  {
   "cell_type": "code",
   "execution_count": 4,
   "metadata": {},
   "outputs": [],
   "source": [
    "# Build dataframes from the simulator's csv log files\n",
    "\n",
    "def prepare_csv_dfs(directory):\n",
    "    csv_dfs = defaultdict(dict)\n",
    "    for entry in tqdm(os.scandir(directory)):\n",
    "        if os.path.isfile(entry):\n",
    "            filename = entry.name\n",
    "            filename = filename[:-4]\n",
    "            tokens = filename.split('_')\n",
    "            timestamp = tokens.pop(0)\n",
    "            timestamp += tokens.pop(0)\n",
    "            df = pd.read_csv(entry.path)\n",
    "            csv_dfs[tokens[0] + \"_\" + timestamp][tokens[2]] = df\n",
    "            csv_dfs[tokens[0] + \"_\" + timestamp]['year'] = tokens[1]\n",
    "\n",
    "    return csv_dfs"
   ]
  },
  {
   "cell_type": "code",
   "execution_count": 5,
   "metadata": {},
   "outputs": [],
   "source": [
    "# Build a single dataframe including all information from simulator logs\n",
    "\n",
    "def build_database(dfs):\n",
    "    index = 0\n",
    "    count = 0\n",
    "    rows = []\n",
    "    for i, race_id in enumerate(tqdm(dfs)):\n",
    "        tokens = race_id.split('_')\n",
    "        timestamp = tokens[1]\n",
    "        race = tokens[0]\n",
    "        year = dfs[race_id]['year']\n",
    "\n",
    "        lap_times = dfs[race_id]['laptimes']\n",
    "        influences = dfs[race_id]['lapinfluences']\n",
    "        positions = dfs[race_id]['positions']\n",
    "        race_times = dfs[race_id]['racetimes']\n",
    "        \n",
    "        columns = list(lap_times.columns)\n",
    "        columns.remove('lap')\n",
    "\n",
    "        for lap in lap_times.lap.unique():\n",
    "            lap_time_single_lap = lap_times.loc[lap_times['lap'] == lap]\n",
    "            influences_single_lap = influences.loc[influences['lap'] == lap]\n",
    "            positions_single_lap = positions.loc[positions['lap'] == lap]\n",
    "            race_times_single_lap = race_times.loc[race_times['lap'] == lap]\n",
    "            for col in columns:\n",
    "                index += 1\n",
    "                new_df = {}\n",
    "                new_df['id'] = [timestamp]\n",
    "                new_df['race'] = [race]\n",
    "                new_df['year'] = [year]\n",
    "                new_df['lap'] = [lap]\n",
    "                new_df['driver'] = [col]\n",
    "                new_df['lap_time'] = lap_time_single_lap[col].values\n",
    "                new_df['influence'] = influences_single_lap[col].values\n",
    "                new_df['cumulative_time'] = race_times_single_lap[col].values\n",
    "                new_df['position'] = positions_single_lap[col].values\n",
    "                new_df = pd.DataFrame(new_df, index=[index])\n",
    "                rows.append(new_df)\n",
    "    database = pd.concat(rows)\n",
    "    return database"
   ]
  },
  {
   "cell_type": "code",
   "execution_count": 6,
   "metadata": {},
   "outputs": [],
   "source": [
    "# Extract strategy statistics\n",
    "def get_strategy_stats(driver, database, save_directory, log_file_name):\n",
    "    driver_laps = database.loc[(database['driver'] == driver)]\n",
    "    driver_laps = driver_laps.sort_values('lap')\n",
    "    pits = []\n",
    "    pit_counts = []\n",
    "\n",
    "    for identifier in driver_laps['id'].unique():\n",
    "        pit_count = 0\n",
    "        race_pits = []\n",
    "        \n",
    "        unique_laps = driver_laps[driver_laps['id'] == identifier]\n",
    "        \n",
    "        for index, row in unique_laps.iterrows():\n",
    "            if 'pitinlap' in row['influence']:\n",
    "                pit_count += 1\n",
    "                race_pits.append((row['lap'], row['influence']))\n",
    "\n",
    "        pit_counts.append(pit_count)\n",
    "        pits.append(race_pits)\n",
    "\n",
    "    with open(os.path.join(save_directory, log_file_name), 'a+') as logfile:\n",
    "\n",
    "        # print(\"Average pit count:\", np.mean(pit_counts))\n",
    "        logfile.write(\"Average pit count: {}\".format(np.mean(pit_counts)))\n",
    "        logfile.write(\"\\n\")\n",
    "        logfile.close()\n",
    "\n",
    "    plt.figure()\n",
    "    plt.title(\"Pit count\")\n",
    "    sns.histplot(pit_counts, discrete=True, shrink=0.8, binrange=(0,5))\n",
    "    plt.savefig(os.path.join(save_directory, \"pit_count.png\"))\n",
    "    # plt.show()\n",
    "\n",
    "\n",
    "    plt.figure()\n",
    "    plt.title(\"Lap time [s]\")\n",
    "    sns.lineplot(data=driver_laps, y='lap_time', x='lap')\n",
    "    plt.savefig(os.path.join(save_directory, \"lap_time.png\"))\n",
    "    # plt.show()\n"
   ]
  },
  {
   "cell_type": "code",
   "execution_count": 7,
   "metadata": {},
   "outputs": [],
   "source": [
    "# Extract final placement statistics\n",
    "def get_final_placement(driver, database, save_directory, log_file_name):\n",
    "    with open(os.path.join(save_directory, log_file_name), 'a+') as logfile:\n",
    "        driver_laps = database.loc[(database['driver'] == driver)]\n",
    "        last_lap = driver_laps['lap'].max()\n",
    "        last_laps = database[(database['lap'] == last_lap) & (database['driver'] == driver)]\n",
    "\n",
    "        avg = (\"Average final placement: {}\".format(last_laps['position'].mean()))\n",
    "        max_p = (\"Max final placement: {}\".format(last_laps['position'].min()))\n",
    "        min_p = (\"Min final placement: {}\".format(last_laps['position'].max()))\n",
    "        # print(avg)\n",
    "        # print(max_p)\n",
    "        # print(min_p)\n",
    "        logfile.write(avg + '\\n')\n",
    "        logfile.write(max_p + '\\n')\n",
    "        logfile.write(min_p + '\\n')\n",
    "        logfile.write('\\n')\n",
    "        \n",
    "        logfile.close()\n",
    "\n",
    "    last_laps['position'] = last_laps['position'].astype(int)\n",
    "    plt.figure()\n",
    "    sns.histplot(data=last_laps, x=\"position\", discrete=True, shrink=0.8, binrange=(1,22))\n",
    "    plt.title(\"Final position\")\n",
    "    plt.savefig(os.path.join(save_directory, \"final_position.png\"))\n",
    "    # plt.show()"
   ]
  },
  {
   "cell_type": "code",
   "execution_count": 8,
   "metadata": {},
   "outputs": [],
   "source": [
    "# Simulate true and default strategy\n",
    "\n",
    "from envs.race_strategy_event import RaceEnv\n",
    "from race_simulation.racesim.src.import_pars import import_pars\n",
    "\n",
    "def simulate_strategy(race, driver, strategy_type):\n",
    "\n",
    "    today = datetime.now()\n",
    "    timestamp = today.strftime('%Y-%m-%d_%H-%M')\n",
    "    \n",
    "    true_policy = False\n",
    "    quantile_strategies = False\n",
    "    default_policy = False\n",
    "\n",
    "    if strategy_type == \"true\":\n",
    "        true_policy = True\n",
    "    elif strategy_type == \"quantile\":\n",
    "        quantile_strategies = True\n",
    "    else:\n",
    "        default_policy = True\n",
    "    \n",
    "    env = RaceEnv(horizon=100, scale_reward=False, start_lap=8, config_path='./envs/configs/race_strategy_event_env_config_notebook.json')\n",
    "    env.race_config = \"pars_\" + race + \".ini\"\n",
    "    env.reset()\n",
    "\n",
    "    csv_save_prefix = race + '/' + strategy_type + '/' + timestamp\n",
    "\n",
    "    if true_policy:\n",
    "        pars_in, vse_paths = import_pars(use_print=False,\n",
    "                                         use_vse=False,\n",
    "                                         race_pars_file=env.race_config,\n",
    "                                         mcs_pars_file=MCS_PARS_FILE)\n",
    "\n",
    "        strategy = defaultdict(int)\n",
    "        \n",
    "        true_strategy = pars_in['driver_pars'][driver]['strategy_info']\n",
    "\n",
    "        if len(true_strategy) == 1:\n",
    "            print(\"[WARNING] No pit stop in true strategy!\")\n",
    "        else:\n",
    "            for pit in true_strategy[1:]:\n",
    "                strategy[pit[0]] = env.map_compound_to_action(pit[1])\n",
    "\n",
    "\n",
    "    for i in range(1):\n",
    "        rews = []\n",
    "\n",
    "        for _ in trange(100):\n",
    "            env.reset(quantile_strategies=quantile_strategies)\n",
    "            lap = 8\n",
    "\n",
    "            done = False\n",
    "            cumulative = np.zeros(env.agents_number)\n",
    "            while not done:\n",
    "                agent = env.get_next_agent()\n",
    "                if default_policy or quantile_strategies:\n",
    "                    actions = env.get_default_strategy(agent)\n",
    "                    # actions = env.get_available_actions(agent)\n",
    "                    prob = PROBS[len(actions)]\n",
    "                    action = np.random.choice(actions, p=prob)\n",
    "                    # if action > 0:\n",
    "                    #     print(lap, env.map_action_to_compound(action))\n",
    "                elif true_policy:\n",
    "                    action = strategy[lap]\n",
    "\n",
    "                s, r, done, _ = env.partial_step(action, agent)\n",
    "\n",
    "                cumulative += r\n",
    "                lap += 1\n",
    "                if done:\n",
    "                    rews.append(cumulative.tolist())\n",
    "                \n",
    "            env.save_results(csv_save_prefix)\n",
    "        # print(rews)\n",
    "        # print(\"Return:\", np.mean(rews, axis=0))\n",
    "        # print(\"std: +-\", np.std(rews, axis=0))\n",
    "        rews = np.array(rews)\n",
    "\n",
    "    policy_type = \"default\" if default_policy or quantile_strategies else \"human\"\n",
    "    numpy_save_location = \"data/RaceStrategy-v2/{}_policy/results_unnorm_{}.npy\".format(policy_type, race)\n",
    "    np.save(numpy_save_location, rews)\n",
    "    return numpy_save_location, csv_save_prefix\n"
   ]
  },
  {
   "cell_type": "code",
   "execution_count": 9,
   "metadata": {},
   "outputs": [],
   "source": [
    "def extract_numpy_scores(path, log_file_name):\n",
    "    # Extract already stored numpy data\n",
    "    if not(\".npy\" in path):\n",
    "        p = os.path.dirname(path)\n",
    "        p = os.path.dirname(p)\n",
    "        root_folder = os.path.dirname(p)\n",
    "        online_scores = np.load(os.path.join(root_folder, \"numpy_dumps\", \"results.npy\"))\n",
    "    else:\n",
    "        online_scores = np.load(path)\n",
    "    mean_ci = mean_confidence_interval(online_scores)\n",
    "    result_string = \"Mean and ci: {} +- {}\".format(mean_ci[0].squeeze(), mean_ci[1].squeeze())\n",
    "    # print(result_string)\n",
    "    with open(log_file_name, 'a+') as logfile:\n",
    "        logfile.write(result_string)\n",
    "        logfile.write(\"\\n\")\n",
    "    return result_string"
   ]
  },
  {
   "cell_type": "code",
   "execution_count": 10,
   "metadata": {},
   "outputs": [],
   "source": [
    "def pipeline(log, driver):\n",
    "    \n",
    "    log_root =os.path.dirname(os.path.dirname(os.path.dirname(log)))\n",
    "\n",
    "    csv_data = prepare_csv_dfs(log)\n",
    "    database = build_database(csv_data)\n",
    "    race = database['race'].unique()[0]\n",
    "    year = database['year'].unique()[0]\n",
    "    race_string = str(race) + '_' + str(year)\n",
    "    # print(\"### Race:\", race, year, \"###\")\n",
    "    # print()\n",
    "\n",
    "    post_string = \"postprocessing_\" + race_string\n",
    "\n",
    "    for alg in [\"planner\", \"true\", \"default\"]:\n",
    "        os.makedirs(os.path.join(log_root, post_string, alg), exist_ok=True)\n",
    "\n",
    "    log_name = race_string + \".txt\"\n",
    "\n",
    "\n",
    "    # print(\"Planner\")\n",
    "\n",
    "    save_path = os.path.join(log_root, post_string, \"planner\")\n",
    "\n",
    "    extract_numpy_scores(log, os.path.join(save_path, log_name))\n",
    "    get_strategy_stats(driver, database, save_path, log_name)\n",
    "    get_final_placement(driver, database, save_path, log_name)\n",
    "    # print()\n",
    "\n",
    "\n",
    "    # print(\"True strategy\")\n",
    "\n",
    "    save_path = os.path.join(log_root, post_string, \"true\")\n",
    "\n",
    "    numpy_logs, csv_prefix = simulate_strategy(race_string, driver, \"true\")\n",
    "    csv_data = prepare_csv_dfs(\"./sim_logs/results/\" + csv_prefix)\n",
    "    database = build_database(csv_data)\n",
    "\n",
    "    extract_numpy_scores(numpy_logs, os.path.join(save_path, log_name))\n",
    "    get_strategy_stats(driver, database, save_path, log_name)\n",
    "    get_final_placement(driver, database, save_path, log_name)\n",
    "    # print()\n",
    "\n",
    "\n",
    "    # print(\"Default_strategy\")\n",
    "\n",
    "    save_path = os.path.join(log_root, post_string, \"default\")\n",
    "\n",
    "    numpy_logs, csv_prefix = simulate_strategy(race_string, driver, \"default\")\n",
    "    csv_data = prepare_csv_dfs(\"./sim_logs/results/\" + csv_prefix)\n",
    "    database = build_database(csv_data)\n",
    "\n",
    "    extract_numpy_scores(numpy_logs, os.path.join(save_path, log_name))\n",
    "    get_strategy_stats(driver, database, save_path, log_name)\n",
    "    get_final_placement(driver, database, save_path, log_name)\n",
    "    # print()"
   ]
  },
  {
   "cell_type": "code",
   "execution_count": 11,
   "metadata": {
    "tags": []
   },
   "outputs": [
    {
     "output_type": "stream",
     "name": "stdout",
     "text": [
      "\n",
      "\n",
      "\n"
     ]
    },
    {
     "output_type": "display_data",
     "data": {
      "text/plain": "HBox(children=(HTML(value=''), FloatProgress(value=0.0), HTML(value='')))",
      "application/vnd.jupyter.widget-view+json": {
       "version_major": 2,
       "version_minor": 0,
       "model_id": "5ef5cdb90fde43beb3fc02de6df5ed21"
      }
     },
     "metadata": {}
    },
    {
     "output_type": "stream",
     "name": "stdout",
     "text": [
      "\n",
      "\n",
      "\n",
      "\n",
      "\n"
     ]
    },
    {
     "output_type": "display_data",
     "data": {
      "text/plain": "HBox(children=(HTML(value=''), FloatProgress(value=0.0), HTML(value='')))",
      "application/vnd.jupyter.widget-view+json": {
       "version_major": 2,
       "version_minor": 0,
       "model_id": "a0c34d9a7a8e4c83981835ddc1a57694"
      }
     },
     "metadata": {}
    },
    {
     "output_type": "display_data",
     "data": {
      "text/plain": "HBox(children=(HTML(value=''), FloatProgress(value=0.0), HTML(value='')))",
      "application/vnd.jupyter.widget-view+json": {
       "version_major": 2,
       "version_minor": 0,
       "model_id": "c8a29f9d1581433e8551745a8d3b5f38"
      }
     },
     "metadata": {}
    },
    {
     "output_type": "stream",
     "name": "stdout",
     "text": [
      "\n"
     ]
    },
    {
     "output_type": "display_data",
     "data": {
      "text/plain": "HBox(children=(HTML(value=''), FloatProgress(value=0.0), HTML(value='')))",
      "application/vnd.jupyter.widget-view+json": {
       "version_major": 2,
       "version_minor": 0,
       "model_id": "7013a640d2b44cfdbed6960783ecc89f"
      }
     },
     "metadata": {}
    },
    {
     "output_type": "stream",
     "name": "stdout",
     "text": [
      "\n"
     ]
    },
    {
     "output_type": "display_data",
     "data": {
      "text/plain": "HBox(children=(HTML(value=''), FloatProgress(value=0.0), HTML(value='')))",
      "application/vnd.jupyter.widget-view+json": {
       "version_major": 2,
       "version_minor": 0,
       "model_id": "9c9fdb5b82dd4b6baec2ddb2b79ea295"
      }
     },
     "metadata": {}
    },
    {
     "output_type": "display_data",
     "data": {
      "text/plain": "HBox(children=(HTML(value=''), FloatProgress(value=0.0), HTML(value='')))",
      "application/vnd.jupyter.widget-view+json": {
       "version_major": 2,
       "version_minor": 0,
       "model_id": "daad451b93e24a4b995023fa3f7b990b"
      }
     },
     "metadata": {}
    },
    {
     "output_type": "display_data",
     "data": {
      "text/plain": "HBox(children=(HTML(value=''), FloatProgress(value=0.0), HTML(value='')))",
      "application/vnd.jupyter.widget-view+json": {
       "version_major": 2,
       "version_minor": 0,
       "model_id": "60f1810c016a442f80972a4bc53927a7"
      }
     },
     "metadata": {}
    },
    {
     "output_type": "display_data",
     "data": {
      "text/plain": "HBox(children=(HTML(value=''), FloatProgress(value=0.0), HTML(value='')))",
      "application/vnd.jupyter.widget-view+json": {
       "version_major": 2,
       "version_minor": 0,
       "model_id": "be17cf614e8a4454a9d22e003df67038"
      }
     },
     "metadata": {}
    },
    {
     "output_type": "display_data",
     "data": {
      "text/plain": "HBox(children=(HTML(value=''), FloatProgress(value=0.0), HTML(value='')))",
      "application/vnd.jupyter.widget-view+json": {
       "version_major": 2,
       "version_minor": 0,
       "model_id": "2a8670f0c9a442d4a14ba505d2782f80"
      }
     },
     "metadata": {}
    },
    {
     "output_type": "display_data",
     "data": {
      "text/plain": "HBox(children=(HTML(value=''), FloatProgress(value=0.0), HTML(value='')))",
      "application/vnd.jupyter.widget-view+json": {
       "version_major": 2,
       "version_minor": 0,
       "model_id": "ded8a202663b42ecbf2c495f8e1eb0df"
      }
     },
     "metadata": {}
    },
    {
     "output_type": "stream",
     "name": "stdout",
     "text": [
      "\n",
      "\n",
      "\n",
      "\n",
      "\n",
      "\n",
      "\n",
      "\n",
      "\n",
      "\n"
     ]
    },
    {
     "output_type": "display_data",
     "data": {
      "text/plain": "HBox(children=(HTML(value=''), FloatProgress(value=0.0), HTML(value='')))",
      "application/vnd.jupyter.widget-view+json": {
       "version_major": 2,
       "version_minor": 0,
       "model_id": "1da76b5413de46bc8c912bccbff9ba5c"
      }
     },
     "metadata": {}
    },
    {
     "output_type": "stream",
     "name": "stdout",
     "text": [
      "\n"
     ]
    },
    {
     "output_type": "display_data",
     "data": {
      "text/plain": "HBox(children=(HTML(value=''), FloatProgress(value=1.0, bar_style='info', layout=Layout(width='20px'), max=1.0…",
      "application/vnd.jupyter.widget-view+json": {
       "version_major": 2,
       "version_minor": 0,
       "model_id": "8b35fc01bcf44bb7ab70b3786a2680ec"
      }
     },
     "metadata": {}
    },
    {
     "output_type": "stream",
     "name": "stdout",
     "text": [
      "\n"
     ]
    },
    {
     "output_type": "display_data",
     "data": {
      "text/plain": "HBox(children=(HTML(value=''), FloatProgress(value=0.0), HTML(value='')))",
      "application/vnd.jupyter.widget-view+json": {
       "version_major": 2,
       "version_minor": 0,
       "model_id": "1a68aff264df40eaa8c064c4d9eeb340"
      }
     },
     "metadata": {}
    },
    {
     "output_type": "display_data",
     "data": {
      "text/plain": "HBox(children=(HTML(value=''), FloatProgress(value=0.0), HTML(value='')))",
      "application/vnd.jupyter.widget-view+json": {
       "version_major": 2,
       "version_minor": 0,
       "model_id": "239e04102ed441e695228a8d7b5fefbc"
      }
     },
     "metadata": {}
    },
    {
     "output_type": "display_data",
     "data": {
      "text/plain": "HBox(children=(HTML(value=''), FloatProgress(value=0.0), HTML(value='')))",
      "application/vnd.jupyter.widget-view+json": {
       "version_major": 2,
       "version_minor": 0,
       "model_id": "9b57f0bf9a0247d58e23ecb1d5a88068"
      }
     },
     "metadata": {}
    },
    {
     "output_type": "display_data",
     "data": {
      "text/plain": "HBox(children=(HTML(value=''), FloatProgress(value=0.0), HTML(value='')))",
      "application/vnd.jupyter.widget-view+json": {
       "version_major": 2,
       "version_minor": 0,
       "model_id": "9ea2f24367134c9591b513670d307063"
      }
     },
     "metadata": {}
    },
    {
     "output_type": "display_data",
     "data": {
      "text/plain": "HBox(children=(HTML(value=''), FloatProgress(value=0.0), HTML(value='')))",
      "application/vnd.jupyter.widget-view+json": {
       "version_major": 2,
       "version_minor": 0,
       "model_id": "bd39fa88105145789d18cbf71781ff8a"
      }
     },
     "metadata": {}
    },
    {
     "output_type": "display_data",
     "data": {
      "text/plain": "HBox(children=(HTML(value=''), FloatProgress(value=0.0), HTML(value='')))",
      "application/vnd.jupyter.widget-view+json": {
       "version_major": 2,
       "version_minor": 0,
       "model_id": "6a8e1c34ed3846e19126146eff88557f"
      }
     },
     "metadata": {}
    },
    {
     "output_type": "display_data",
     "data": {
      "text/plain": "HBox(children=(HTML(value=''), FloatProgress(value=0.0), HTML(value='')))",
      "application/vnd.jupyter.widget-view+json": {
       "version_major": 2,
       "version_minor": 0,
       "model_id": "806babd8fb594da5a299e61c1eb252e2"
      }
     },
     "metadata": {}
    },
    {
     "output_type": "stream",
     "name": "stdout",
     "text": [
      "\n"
     ]
    },
    {
     "output_type": "display_data",
     "data": {
      "text/plain": "HBox(children=(HTML(value=''), FloatProgress(value=1.0, bar_style='info', layout=Layout(width='20px'), max=1.0…",
      "application/vnd.jupyter.widget-view+json": {
       "version_major": 2,
       "version_minor": 0,
       "model_id": "bcdbb95723564f6684c51541322d6ba8"
      }
     },
     "metadata": {}
    },
    {
     "output_type": "stream",
     "name": "stdout",
     "text": [
      "\n"
     ]
    },
    {
     "output_type": "display_data",
     "data": {
      "text/plain": "HBox(children=(HTML(value=''), FloatProgress(value=0.0), HTML(value='')))",
      "application/vnd.jupyter.widget-view+json": {
       "version_major": 2,
       "version_minor": 0,
       "model_id": "d67cd6f65124421193b78e60fd3a0a81"
      }
     },
     "metadata": {}
    },
    {
     "output_type": "stream",
     "name": "stdout",
     "text": [
      "\n"
     ]
    },
    {
     "output_type": "display_data",
     "data": {
      "text/plain": "HBox(children=(HTML(value=''), FloatProgress(value=1.0, bar_style='info', layout=Layout(width='20px'), max=1.0…",
      "application/vnd.jupyter.widget-view+json": {
       "version_major": 2,
       "version_minor": 0,
       "model_id": "60b655cc798d4725bde1322b0f266003"
      }
     },
     "metadata": {}
    },
    {
     "output_type": "stream",
     "name": "stdout",
     "text": [
      "\n"
     ]
    },
    {
     "output_type": "display_data",
     "data": {
      "text/plain": "HBox(children=(HTML(value=''), FloatProgress(value=0.0), HTML(value='')))",
      "application/vnd.jupyter.widget-view+json": {
       "version_major": 2,
       "version_minor": 0,
       "model_id": "7bfc54f9d3dd4f8db31beae07fbcbb5e"
      }
     },
     "metadata": {}
    },
    {
     "output_type": "stream",
     "name": "stdout",
     "text": [
      "\n"
     ]
    },
    {
     "output_type": "display_data",
     "data": {
      "text/plain": "HBox(children=(HTML(value=''), FloatProgress(value=1.0, bar_style='info', layout=Layout(width='20px'), max=1.0…",
      "application/vnd.jupyter.widget-view+json": {
       "version_major": 2,
       "version_minor": 0,
       "model_id": "14cebd2bdc474c2aa8ac2b8f09e2a9cc"
      }
     },
     "metadata": {}
    },
    {
     "output_type": "stream",
     "name": "stdout",
     "text": [
      "\n"
     ]
    },
    {
     "output_type": "display_data",
     "data": {
      "text/plain": "HBox(children=(HTML(value=''), FloatProgress(value=0.0), HTML(value='')))",
      "application/vnd.jupyter.widget-view+json": {
       "version_major": 2,
       "version_minor": 0,
       "model_id": "c93eea4ca13243a9ab0b0a434f30d5f8"
      }
     },
     "metadata": {}
    },
    {
     "output_type": "stream",
     "name": "stdout",
     "text": [
      "\n"
     ]
    },
    {
     "output_type": "display_data",
     "data": {
      "text/plain": "HBox(children=(HTML(value=''), FloatProgress(value=1.0, bar_style='info', layout=Layout(width='20px'), max=1.0…",
      "application/vnd.jupyter.widget-view+json": {
       "version_major": 2,
       "version_minor": 0,
       "model_id": "d05bcdde3cb84f48b6e45124d8e7bc48"
      }
     },
     "metadata": {}
    },
    {
     "output_type": "stream",
     "name": "stdout",
     "text": [
      "\n"
     ]
    },
    {
     "output_type": "display_data",
     "data": {
      "text/plain": "HBox(children=(HTML(value=''), FloatProgress(value=1.0, bar_style='info', layout=Layout(width='20px'), max=1.0…",
      "application/vnd.jupyter.widget-view+json": {
       "version_major": 2,
       "version_minor": 0,
       "model_id": "bbdddb4d133c403ca92a61d8dbf94129"
      }
     },
     "metadata": {}
    },
    {
     "output_type": "stream",
     "name": "stdout",
     "text": [
      "\n"
     ]
    },
    {
     "output_type": "display_data",
     "data": {
      "text/plain": "HBox(children=(HTML(value=''), FloatProgress(value=0.0), HTML(value='')))",
      "application/vnd.jupyter.widget-view+json": {
       "version_major": 2,
       "version_minor": 0,
       "model_id": "c131aa36deb34f8c9e4af2f1f5b1c087"
      }
     },
     "metadata": {}
    },
    {
     "output_type": "stream",
     "name": "stdout",
     "text": [
      "\n"
     ]
    },
    {
     "output_type": "display_data",
     "data": {
      "text/plain": "HBox(children=(HTML(value=''), FloatProgress(value=0.0), HTML(value='')))",
      "application/vnd.jupyter.widget-view+json": {
       "version_major": 2,
       "version_minor": 0,
       "model_id": "26bdd76884cb4823adf8bad241295fb8"
      }
     },
     "metadata": {}
    },
    {
     "output_type": "display_data",
     "data": {
      "text/plain": "HBox(children=(HTML(value=''), FloatProgress(value=0.0), HTML(value='')))",
      "application/vnd.jupyter.widget-view+json": {
       "version_major": 2,
       "version_minor": 0,
       "model_id": "3d6f2d7c98c349b8a788d60f2faf70aa"
      }
     },
     "metadata": {}
    },
    {
     "output_type": "stream",
     "name": "stdout",
     "text": [
      "\n"
     ]
    },
    {
     "output_type": "display_data",
     "data": {
      "text/plain": "HBox(children=(HTML(value=''), FloatProgress(value=1.0, bar_style='info', layout=Layout(width='20px'), max=1.0…",
      "application/vnd.jupyter.widget-view+json": {
       "version_major": 2,
       "version_minor": 0,
       "model_id": "cc16d0c0edc94172a5a5083ada69a324"
      }
     },
     "metadata": {}
    },
    {
     "output_type": "stream",
     "name": "stdout",
     "text": [
      "\n"
     ]
    },
    {
     "output_type": "display_data",
     "data": {
      "text/plain": "HBox(children=(HTML(value=''), FloatProgress(value=0.0), HTML(value='')))",
      "application/vnd.jupyter.widget-view+json": {
       "version_major": 2,
       "version_minor": 0,
       "model_id": "96ed60abe7c845e5a4f930cda78c51cc"
      }
     },
     "metadata": {}
    },
    {
     "output_type": "display_data",
     "data": {
      "text/plain": "HBox(children=(HTML(value=''), FloatProgress(value=0.0), HTML(value='')))",
      "application/vnd.jupyter.widget-view+json": {
       "version_major": 2,
       "version_minor": 0,
       "model_id": "7a9d338938e34845b816b5ccdc651e7f"
      }
     },
     "metadata": {}
    },
    {
     "output_type": "display_data",
     "data": {
      "text/plain": "HBox(children=(HTML(value=''), FloatProgress(value=0.0), HTML(value='')))",
      "application/vnd.jupyter.widget-view+json": {
       "version_major": 2,
       "version_minor": 0,
       "model_id": "709b6f848f1d425289c7ebbd93b74b8e"
      }
     },
     "metadata": {}
    },
    {
     "output_type": "stream",
     "name": "stdout",
     "text": [
      "\n"
     ]
    },
    {
     "output_type": "display_data",
     "data": {
      "text/plain": "HBox(children=(HTML(value=''), FloatProgress(value=1.0, bar_style='info', layout=Layout(width='20px'), max=1.0…",
      "application/vnd.jupyter.widget-view+json": {
       "version_major": 2,
       "version_minor": 0,
       "model_id": "63389a31004541248344da997d0ac254"
      }
     },
     "metadata": {}
    },
    {
     "output_type": "stream",
     "name": "stdout",
     "text": [
      "\n"
     ]
    },
    {
     "output_type": "display_data",
     "data": {
      "text/plain": "HBox(children=(HTML(value=''), FloatProgress(value=0.0), HTML(value='')))",
      "application/vnd.jupyter.widget-view+json": {
       "version_major": 2,
       "version_minor": 0,
       "model_id": "4a1493ebd0b64e0babab021ab4a35ec3"
      }
     },
     "metadata": {}
    },
    {
     "output_type": "stream",
     "name": "stdout",
     "text": [
      "\n",
      "\n"
     ]
    },
    {
     "output_type": "display_data",
     "data": {
      "text/plain": "HBox(children=(HTML(value=''), FloatProgress(value=1.0, bar_style='info', layout=Layout(width='20px'), max=1.0…",
      "application/vnd.jupyter.widget-view+json": {
       "version_major": 2,
       "version_minor": 0,
       "model_id": "fd27cabf5b614f02b02ae09f5ffcbee3"
      }
     },
     "metadata": {}
    },
    {
     "output_type": "stream",
     "name": "stdout",
     "text": [
      "\n"
     ]
    },
    {
     "output_type": "display_data",
     "data": {
      "text/plain": "HBox(children=(HTML(value=''), FloatProgress(value=1.0, bar_style='info', layout=Layout(width='20px'), max=1.0…",
      "application/vnd.jupyter.widget-view+json": {
       "version_major": 2,
       "version_minor": 0,
       "model_id": "23f3e70066c84315b0dfab3b1c012cc2"
      }
     },
     "metadata": {}
    },
    {
     "output_type": "stream",
     "name": "stdout",
     "text": [
      "\n"
     ]
    },
    {
     "output_type": "display_data",
     "data": {
      "text/plain": "HBox(children=(HTML(value=''), FloatProgress(value=0.0), HTML(value='')))",
      "application/vnd.jupyter.widget-view+json": {
       "version_major": 2,
       "version_minor": 0,
       "model_id": "29ced6e4e6ec47ceb372ceaabe7e51f5"
      }
     },
     "metadata": {}
    },
    {
     "output_type": "stream",
     "name": "stdout",
     "text": [
      "\n"
     ]
    },
    {
     "output_type": "display_data",
     "data": {
      "text/plain": "HBox(children=(HTML(value=''), FloatProgress(value=0.0), HTML(value='')))",
      "application/vnd.jupyter.widget-view+json": {
       "version_major": 2,
       "version_minor": 0,
       "model_id": "1eaf6bda1cd44b33a786e4df5b9d55cf"
      }
     },
     "metadata": {}
    },
    {
     "output_type": "stream",
     "name": "stdout",
     "text": [
      "\n",
      "\n",
      "\n"
     ]
    },
    {
     "output_type": "display_data",
     "data": {
      "text/plain": "HBox(children=(HTML(value=''), FloatProgress(value=0.0), HTML(value='')))",
      "application/vnd.jupyter.widget-view+json": {
       "version_major": 2,
       "version_minor": 0,
       "model_id": "8843dadd449a4f7a93622a380903cffb"
      }
     },
     "metadata": {}
    },
    {
     "output_type": "stream",
     "name": "stdout",
     "text": [
      "\n",
      "\n",
      "\n",
      "\n"
     ]
    },
    {
     "output_type": "display_data",
     "data": {
      "text/plain": "HBox(children=(HTML(value=''), FloatProgress(value=1.0, bar_style='info', layout=Layout(width='20px'), max=1.0…",
      "application/vnd.jupyter.widget-view+json": {
       "version_major": 2,
       "version_minor": 0,
       "model_id": "799a553ed94949528b51116fbee9fd9c"
      }
     },
     "metadata": {}
    },
    {
     "output_type": "stream",
     "name": "stdout",
     "text": [
      "\n"
     ]
    },
    {
     "output_type": "display_data",
     "data": {
      "text/plain": "HBox(children=(HTML(value=''), FloatProgress(value=0.0), HTML(value='')))",
      "application/vnd.jupyter.widget-view+json": {
       "version_major": 2,
       "version_minor": 0,
       "model_id": "30765eb9ff4e49b2ba23bc0e870ea0dc"
      }
     },
     "metadata": {}
    },
    {
     "output_type": "display_data",
     "data": {
      "text/plain": "HBox(children=(HTML(value=''), FloatProgress(value=0.0), HTML(value='')))",
      "application/vnd.jupyter.widget-view+json": {
       "version_major": 2,
       "version_minor": 0,
       "model_id": "7be503c215c147d69d70f4c4d82b8357"
      }
     },
     "metadata": {}
    },
    {
     "output_type": "display_data",
     "data": {
      "text/plain": "HBox(children=(HTML(value=''), FloatProgress(value=0.0), HTML(value='')))",
      "application/vnd.jupyter.widget-view+json": {
       "version_major": 2,
       "version_minor": 0,
       "model_id": "f04663757d5f424c855e37260f004b7a"
      }
     },
     "metadata": {}
    },
    {
     "output_type": "display_data",
     "data": {
      "text/plain": "HBox(children=(HTML(value=''), FloatProgress(value=0.0), HTML(value='')))",
      "application/vnd.jupyter.widget-view+json": {
       "version_major": 2,
       "version_minor": 0,
       "model_id": "1983c398dc5e48838eaefdef420896b3"
      }
     },
     "metadata": {}
    },
    {
     "output_type": "stream",
     "name": "stdout",
     "text": [
      "\n",
      "\n"
     ]
    },
    {
     "output_type": "display_data",
     "data": {
      "text/plain": "HBox(children=(HTML(value=''), FloatProgress(value=1.0, bar_style='info', layout=Layout(width='20px'), max=1.0…",
      "application/vnd.jupyter.widget-view+json": {
       "version_major": 2,
       "version_minor": 0,
       "model_id": "8c82996055c14957ac07548f6059bb05"
      }
     },
     "metadata": {}
    },
    {
     "output_type": "stream",
     "name": "stdout",
     "text": [
      "\n"
     ]
    },
    {
     "output_type": "display_data",
     "data": {
      "text/plain": "HBox(children=(HTML(value=''), FloatProgress(value=0.0), HTML(value='')))",
      "application/vnd.jupyter.widget-view+json": {
       "version_major": 2,
       "version_minor": 0,
       "model_id": "b5556da503cd46cc9986e9c9d4084c7c"
      }
     },
     "metadata": {}
    },
    {
     "output_type": "display_data",
     "data": {
      "text/plain": "HBox(children=(HTML(value=''), FloatProgress(value=0.0), HTML(value='')))",
      "application/vnd.jupyter.widget-view+json": {
       "version_major": 2,
       "version_minor": 0,
       "model_id": "2b31e49b80fa4ec88bdfd9bbf3de1464"
      }
     },
     "metadata": {}
    },
    {
     "output_type": "stream",
     "name": "stdout",
     "text": [
      "\n"
     ]
    },
    {
     "output_type": "display_data",
     "data": {
      "text/plain": "HBox(children=(HTML(value=''), FloatProgress(value=1.0, bar_style='info', layout=Layout(width='20px'), max=1.0…",
      "application/vnd.jupyter.widget-view+json": {
       "version_major": 2,
       "version_minor": 0,
       "model_id": "03af533bd5334711ae030408347b6503"
      }
     },
     "metadata": {}
    },
    {
     "output_type": "stream",
     "name": "stdout",
     "text": [
      "\n"
     ]
    },
    {
     "output_type": "display_data",
     "data": {
      "text/plain": "HBox(children=(HTML(value=''), FloatProgress(value=0.0), HTML(value='')))",
      "application/vnd.jupyter.widget-view+json": {
       "version_major": 2,
       "version_minor": 0,
       "model_id": "2b1502bea6954438a9be7eda74ef6523"
      }
     },
     "metadata": {}
    },
    {
     "output_type": "display_data",
     "data": {
      "text/plain": "HBox(children=(HTML(value=''), FloatProgress(value=0.0), HTML(value='')))",
      "application/vnd.jupyter.widget-view+json": {
       "version_major": 2,
       "version_minor": 0,
       "model_id": "0c206abdc94542258db15835b6d9c1e8"
      }
     },
     "metadata": {}
    },
    {
     "output_type": "stream",
     "name": "stdout",
     "text": [
      "\n",
      "\n",
      "\n"
     ]
    },
    {
     "output_type": "display_data",
     "data": {
      "text/plain": "HBox(children=(HTML(value=''), FloatProgress(value=1.0, bar_style='info', layout=Layout(width='20px'), max=1.0…",
      "application/vnd.jupyter.widget-view+json": {
       "version_major": 2,
       "version_minor": 0,
       "model_id": "920f429eb7714983bedbb2696039de20"
      }
     },
     "metadata": {}
    },
    {
     "output_type": "stream",
     "name": "stdout",
     "text": [
      "\n"
     ]
    },
    {
     "output_type": "display_data",
     "data": {
      "text/plain": "HBox(children=(HTML(value=''), FloatProgress(value=0.0), HTML(value='')))",
      "application/vnd.jupyter.widget-view+json": {
       "version_major": 2,
       "version_minor": 0,
       "model_id": "7a1a8ab6cb0549c4a99ca0384fd76062"
      }
     },
     "metadata": {}
    },
    {
     "output_type": "display_data",
     "data": {
      "text/plain": "HBox(children=(HTML(value=''), FloatProgress(value=0.0), HTML(value='')))",
      "application/vnd.jupyter.widget-view+json": {
       "version_major": 2,
       "version_minor": 0,
       "model_id": "c0724e8ffe8843b1adcb834148664918"
      }
     },
     "metadata": {}
    },
    {
     "output_type": "stream",
     "name": "stdout",
     "text": [
      "\n"
     ]
    },
    {
     "output_type": "display_data",
     "data": {
      "text/plain": "HBox(children=(HTML(value=''), FloatProgress(value=1.0, bar_style='info', layout=Layout(width='20px'), max=1.0…",
      "application/vnd.jupyter.widget-view+json": {
       "version_major": 2,
       "version_minor": 0,
       "model_id": "76130b213540404eb38cbaa5d398f719"
      }
     },
     "metadata": {}
    },
    {
     "output_type": "stream",
     "name": "stdout",
     "text": [
      "\n"
     ]
    },
    {
     "output_type": "display_data",
     "data": {
      "text/plain": "HBox(children=(HTML(value=''), FloatProgress(value=1.0, bar_style='info', layout=Layout(width='20px'), max=1.0…",
      "application/vnd.jupyter.widget-view+json": {
       "version_major": 2,
       "version_minor": 0,
       "model_id": "87202088fb58475a9ceb6ee1fb1baae6"
      }
     },
     "metadata": {}
    },
    {
     "output_type": "stream",
     "name": "stdout",
     "text": [
      "\n"
     ]
    },
    {
     "output_type": "display_data",
     "data": {
      "text/plain": "HBox(children=(HTML(value=''), FloatProgress(value=0.0), HTML(value='')))",
      "application/vnd.jupyter.widget-view+json": {
       "version_major": 2,
       "version_minor": 0,
       "model_id": "a3382332587e41acafb913c9b15b3ad6"
      }
     },
     "metadata": {}
    },
    {
     "output_type": "stream",
     "name": "stdout",
     "text": [
      "\n"
     ]
    },
    {
     "output_type": "display_data",
     "data": {
      "text/plain": "HBox(children=(HTML(value=''), FloatProgress(value=0.0), HTML(value='')))",
      "application/vnd.jupyter.widget-view+json": {
       "version_major": 2,
       "version_minor": 0,
       "model_id": "d96554e8e7e3477bba55e7dad4e5a5eb"
      }
     },
     "metadata": {}
    },
    {
     "output_type": "stream",
     "name": "stdout",
     "text": [
      "\n",
      "\n"
     ]
    },
    {
     "output_type": "display_data",
     "data": {
      "text/plain": "HBox(children=(HTML(value=''), FloatProgress(value=1.0, bar_style='info', layout=Layout(width='20px'), max=1.0…",
      "application/vnd.jupyter.widget-view+json": {
       "version_major": 2,
       "version_minor": 0,
       "model_id": "a11e1cf0f433492883a5ef7349abc24d"
      }
     },
     "metadata": {}
    },
    {
     "output_type": "stream",
     "name": "stdout",
     "text": [
      "\n"
     ]
    },
    {
     "output_type": "display_data",
     "data": {
      "text/plain": "HBox(children=(HTML(value=''), FloatProgress(value=0.0), HTML(value='')))",
      "application/vnd.jupyter.widget-view+json": {
       "version_major": 2,
       "version_minor": 0,
       "model_id": "44ab16ff6f3d4eedb5664081100d2ba2"
      }
     },
     "metadata": {}
    },
    {
     "output_type": "display_data",
     "data": {
      "text/plain": "HBox(children=(HTML(value=''), FloatProgress(value=0.0), HTML(value='')))",
      "application/vnd.jupyter.widget-view+json": {
       "version_major": 2,
       "version_minor": 0,
       "model_id": "b701eeab2a21432d9bf05db42928fbc1"
      }
     },
     "metadata": {}
    },
    {
     "output_type": "stream",
     "name": "stdout",
     "text": [
      "\n"
     ]
    },
    {
     "output_type": "display_data",
     "data": {
      "text/plain": "HBox(children=(HTML(value=''), FloatProgress(value=0.0), HTML(value='')))",
      "application/vnd.jupyter.widget-view+json": {
       "version_major": 2,
       "version_minor": 0,
       "model_id": "71dd95f0f0604a2d92813f61de22689c"
      }
     },
     "metadata": {}
    },
    {
     "output_type": "stream",
     "name": "stdout",
     "text": [
      "\n"
     ]
    },
    {
     "output_type": "display_data",
     "data": {
      "text/plain": "HBox(children=(HTML(value=''), FloatProgress(value=1.0, bar_style='info', layout=Layout(width='20px'), max=1.0…",
      "application/vnd.jupyter.widget-view+json": {
       "version_major": 2,
       "version_minor": 0,
       "model_id": "bb2a6aee7d9d4e52b08bf052553712bf"
      }
     },
     "metadata": {}
    },
    {
     "output_type": "display_data",
     "data": {
      "text/plain": "HBox(children=(HTML(value=''), FloatProgress(value=0.0), HTML(value='')))",
      "application/vnd.jupyter.widget-view+json": {
       "version_major": 2,
       "version_minor": 0,
       "model_id": "9e5bdfcb6a63422fa0da4c034e5f3371"
      }
     },
     "metadata": {}
    },
    {
     "output_type": "stream",
     "name": "stdout",
     "text": [
      "\n"
     ]
    },
    {
     "output_type": "display_data",
     "data": {
      "text/plain": "HBox(children=(HTML(value=''), FloatProgress(value=0.0), HTML(value='')))",
      "application/vnd.jupyter.widget-view+json": {
       "version_major": 2,
       "version_minor": 0,
       "model_id": "a89b2910932140b6b9224e0580724b7e"
      }
     },
     "metadata": {}
    },
    {
     "output_type": "stream",
     "name": "stdout",
     "text": [
      "\n",
      "\n",
      "\n"
     ]
    },
    {
     "output_type": "display_data",
     "data": {
      "text/plain": "HBox(children=(HTML(value=''), FloatProgress(value=1.0, bar_style='info', layout=Layout(width='20px'), max=1.0…",
      "application/vnd.jupyter.widget-view+json": {
       "version_major": 2,
       "version_minor": 0,
       "model_id": "e16c9eb617de4e028b8340b479c2fadd"
      }
     },
     "metadata": {}
    },
    {
     "output_type": "stream",
     "name": "stdout",
     "text": [
      "\n"
     ]
    },
    {
     "output_type": "display_data",
     "data": {
      "text/plain": "HBox(children=(HTML(value=''), FloatProgress(value=1.0, bar_style='info', layout=Layout(width='20px'), max=1.0…",
      "application/vnd.jupyter.widget-view+json": {
       "version_major": 2,
       "version_minor": 0,
       "model_id": "c8b5927ae2564faa9de244d5b76a32d1"
      }
     },
     "metadata": {}
    },
    {
     "output_type": "stream",
     "name": "stdout",
     "text": [
      "\n"
     ]
    },
    {
     "output_type": "display_data",
     "data": {
      "text/plain": "HBox(children=(HTML(value=''), FloatProgress(value=0.0), HTML(value='')))",
      "application/vnd.jupyter.widget-view+json": {
       "version_major": 2,
       "version_minor": 0,
       "model_id": "7e5b303993ff415285334859b6baf7e5"
      }
     },
     "metadata": {}
    },
    {
     "output_type": "stream",
     "name": "stdout",
     "text": [
      "\n"
     ]
    },
    {
     "output_type": "display_data",
     "data": {
      "text/plain": "HBox(children=(HTML(value=''), FloatProgress(value=0.0), HTML(value='')))",
      "application/vnd.jupyter.widget-view+json": {
       "version_major": 2,
       "version_minor": 0,
       "model_id": "38d7c6b817304bb99bb2cd898ea83b60"
      }
     },
     "metadata": {}
    },
    {
     "output_type": "stream",
     "name": "stdout",
     "text": [
      "\n",
      "\n",
      "\n",
      "\n",
      "\n",
      "\n"
     ]
    }
   ],
   "source": [
    "import multiprocessing\n",
    "from multiprocessing.pool import Pool\n",
    "\n",
    "logs_root = \"/mnt/c/Users/Diego/Desktop/Logs/QL_LR_Schedule_a_05_b_2/setting_1\"\n",
    "\n",
    "#logs_list = [\"/mnt/c/Users/Diego/Desktop/Logs/Austria_2017_QL_LR_Schedule_a-02_b-2_true_search/sim_logs/results/2020-12-28_15-42-39\"]#\"/mnt/c/Users/Diego/Desktop/Logs/China_2018_QL_LR_schedule_a05_b2_SC/sim_logs/results/2020-12-24_10-57-51\"] #, \"/mnt/c/Users/Diego/Desktop/Logs/China_extra_pit/sim_logs/results/2020-12-24_12-02-08\"]\n",
    "\n",
    "driver = \"VET\"\n",
    "\n",
    "logs_list = os.scandir(logs_root)\n",
    "\n",
    "params = []\n",
    "\n",
    "for dir in logs_list:\n",
    "    logs_parent = os.path.join(logs_root, dir.name, \"sim_logs\", \"results\")\n",
    "    for experiment in os.scandir(logs_parent):\n",
    "         params.append((os.path.join(logs_parent, experiment.name), driver))\n",
    "\n",
    "p = Pool(min(multiprocessing.cpu_count(), len(params)))\n",
    "p.starmap(pipeline, params) \n",
    "p.close()"
   ]
  },
  {
   "source": [
    "path = \"/mnt/c/Users/Diego/Desktop/Logs/QL_LR_schedule_a_05_b_2/setting_0/SaoPaulo/2021-01-07_11-23-47/numpy_dumps\"\n",
    "\n",
    "file_path = os.path.join(path, \"results_80.npy\")\n",
    "online_scores_80 = np.load(file_path).tolist()\n",
    "file_path = os.path.join(path, \"results_20.npy\")\n",
    "online_scores_20 = np.load(file_path).tolist()\n",
    "online_scores_20.extend(online_scores_80)\n",
    "\n",
    "final_scores = np.array(online_scores_20)\n",
    "np.save(os.path.join(path, \"results.npy\"), final_scores)"
   ],
   "cell_type": "markdown",
   "metadata": {}
  },
  {
   "source": [
    "rows = []\n",
    "\n",
    "for parent in os.scandir(logs_root):\n",
    "    for child in os.scandir(parent):\n",
    "        if 'postprocessing' in child.name:\n",
    "            child_root = os.path.join(logs_root, parent.name, child.name)\n",
    "            row = {}\n",
    "            for strategy_type in ['true', 'default', 'planner']:\n",
    "                folder_name = os.path.join(child_root, strategy_type)\n",
    "                for log_file in os.scandir(folder_name):\n",
    "                    if 'json' in log_file.name:\n",
    "                        with open(os.path.join(folder_name, log_file.name), 'r'):\n",
    "                            row['']\n",
    "\n"
   ],
   "cell_type": "markdown",
   "metadata": {}
  },
  {
   "source": [
    "import pandas as pd\n",
    "import numpy as np\n",
    "import matplotlib.pyplot as plt\n",
    "\n",
    "df = pd.DataFrame()\n",
    "\n",
    "def render_mpl_table(data, col_width=3.0, row_height=0.625, font_size=14,\n",
    "                     header_color='#40466e', row_colors=['#f1f1f2', 'w'], edge_color='w',\n",
    "                     bbox=[0, 0, 1, 1], header_columns=0,\n",
    "                     ax=None, **kwargs):\n",
    "    if ax is None:\n",
    "        size = (np.array(data.shape[::-1]) + np.array([0, 1])) * np.array([col_width, row_height])\n",
    "        fig, ax = plt.subplots(figsize=size)\n",
    "        ax.axis('off')\n",
    "    mpl_table = ax.table(cellText=data.values, bbox=bbox, colLabels=data.columns, **kwargs)\n",
    "    mpl_table.auto_set_font_size(False)\n",
    "    mpl_table.set_fontsize(font_size)\n",
    "\n",
    "    for k, cell in mpl_table._cells.items():\n",
    "        cell.set_edgecolor(edge_color)\n",
    "        if k[0] == 0 or k[1] < header_columns:\n",
    "            cell.set_text_props(weight='bold', color='w')\n",
    "            cell.set_facecolor(header_color)\n",
    "        else:\n",
    "            cell.set_facecolor(row_colors[k[0]%len(row_colors) ])\n",
    "    return ax.get_figure(), ax\n",
    "\n",
    "fig,ax = render_mpl_table(df, header_columns=0, col_width=2.0)\n",
    "fig.savefig(\"table_mpl.png\")"
   ],
   "cell_type": "markdown",
   "metadata": {}
  }
 ]
}