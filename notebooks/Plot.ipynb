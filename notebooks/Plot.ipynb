{
 "cells": [
  {
   "cell_type": "code",
   "execution_count": 1,
   "metadata": {},
   "outputs": [],
   "source": [
    "import pandas as pd\n",
    "import numpy as np\n",
    "import seaborn as sns\n",
    "import matplotlib.pyplot as plt\n",
    "from copy import deepcopy"
   ]
  },
  {
   "cell_type": "code",
   "execution_count": 2,
   "metadata": {},
   "outputs": [
    {
     "name": "stdout",
     "output_type": "stream",
     "text": [
      "/Users/diegopiccinotti/.conda/envs/alphazero_singleplayer/bin/python\r\n"
     ]
    }
   ],
   "source": [
    "!which python"
   ]
  },
  {
   "cell_type": "code",
   "execution_count": 12,
   "metadata": {},
   "outputs": [],
   "source": [
    "budget = 10000\n",
    "env = \"Bridge\"\n",
    "particles = [2,4,6,8,10,12,14,16,18,20]\n",
    "\n",
    "df = pd.read_csv(\"{}/pf_{}/data.csv\".format(env,budget))\n",
    "df['Particles'] = df['Particles'].astype(str) + '_pf'\n",
    "df = df.rename(columns={\"Particles\":\"agent\", \"Cumulative reward\": \"total_reward\", \"Length\":\"length\"})\n",
    "df['type'] = [\"pf\"]*df.shape[0]"
   ]
  },
  {
   "cell_type": "code",
   "execution_count": 8,
   "metadata": {},
   "outputs": [
    {
     "data": {
      "text/html": [
       "<div>\n",
       "<style scoped>\n",
       "    .dataframe tbody tr th:only-of-type {\n",
       "        vertical-align: middle;\n",
       "    }\n",
       "\n",
       "    .dataframe tbody tr th {\n",
       "        vertical-align: top;\n",
       "    }\n",
       "\n",
       "    .dataframe thead th {\n",
       "        text-align: right;\n",
       "    }\n",
       "</style>\n",
       "<table border=\"1\" class=\"dataframe\">\n",
       "  <thead>\n",
       "    <tr style=\"text-align: right;\">\n",
       "      <th></th>\n",
       "      <th>agent</th>\n",
       "      <th>total_reward</th>\n",
       "      <th>length</th>\n",
       "      <th>budget</th>\n",
       "      <th>type</th>\n",
       "    </tr>\n",
       "  </thead>\n",
       "  <tbody>\n",
       "    <tr>\n",
       "      <th>0</th>\n",
       "      <td>dpw</td>\n",
       "      <td>1</td>\n",
       "      <td>6</td>\n",
       "      <td>1000</td>\n",
       "      <td>dpw</td>\n",
       "    </tr>\n",
       "    <tr>\n",
       "      <th>1</th>\n",
       "      <td>dpw</td>\n",
       "      <td>1</td>\n",
       "      <td>6</td>\n",
       "      <td>1000</td>\n",
       "      <td>dpw</td>\n",
       "    </tr>\n",
       "    <tr>\n",
       "      <th>2</th>\n",
       "      <td>dpw</td>\n",
       "      <td>0</td>\n",
       "      <td>2</td>\n",
       "      <td>1000</td>\n",
       "      <td>dpw</td>\n",
       "    </tr>\n",
       "    <tr>\n",
       "      <th>3</th>\n",
       "      <td>dpw</td>\n",
       "      <td>1</td>\n",
       "      <td>6</td>\n",
       "      <td>1000</td>\n",
       "      <td>dpw</td>\n",
       "    </tr>\n",
       "    <tr>\n",
       "      <th>4</th>\n",
       "      <td>dpw</td>\n",
       "      <td>1</td>\n",
       "      <td>6</td>\n",
       "      <td>1000</td>\n",
       "      <td>dpw</td>\n",
       "    </tr>\n",
       "    <tr>\n",
       "      <th>...</th>\n",
       "      <td>...</td>\n",
       "      <td>...</td>\n",
       "      <td>...</td>\n",
       "      <td>...</td>\n",
       "      <td>...</td>\n",
       "    </tr>\n",
       "    <tr>\n",
       "      <th>95</th>\n",
       "      <td>dpw</td>\n",
       "      <td>1</td>\n",
       "      <td>6</td>\n",
       "      <td>1000</td>\n",
       "      <td>dpw</td>\n",
       "    </tr>\n",
       "    <tr>\n",
       "      <th>96</th>\n",
       "      <td>dpw</td>\n",
       "      <td>1</td>\n",
       "      <td>6</td>\n",
       "      <td>1000</td>\n",
       "      <td>dpw</td>\n",
       "    </tr>\n",
       "    <tr>\n",
       "      <th>97</th>\n",
       "      <td>dpw</td>\n",
       "      <td>1</td>\n",
       "      <td>6</td>\n",
       "      <td>1000</td>\n",
       "      <td>dpw</td>\n",
       "    </tr>\n",
       "    <tr>\n",
       "      <th>98</th>\n",
       "      <td>dpw</td>\n",
       "      <td>0</td>\n",
       "      <td>1</td>\n",
       "      <td>1000</td>\n",
       "      <td>dpw</td>\n",
       "    </tr>\n",
       "    <tr>\n",
       "      <th>99</th>\n",
       "      <td>dpw</td>\n",
       "      <td>1</td>\n",
       "      <td>6</td>\n",
       "      <td>1000</td>\n",
       "      <td>dpw</td>\n",
       "    </tr>\n",
       "  </tbody>\n",
       "</table>\n",
       "<p>100 rows × 5 columns</p>\n",
       "</div>"
      ],
      "text/plain": [
       "   agent  total_reward  length  budget type\n",
       "0    dpw             1       6    1000  dpw\n",
       "1    dpw             1       6    1000  dpw\n",
       "2    dpw             0       2    1000  dpw\n",
       "3    dpw             1       6    1000  dpw\n",
       "4    dpw             1       6    1000  dpw\n",
       "..   ...           ...     ...     ...  ...\n",
       "95   dpw             1       6    1000  dpw\n",
       "96   dpw             1       6    1000  dpw\n",
       "97   dpw             1       6    1000  dpw\n",
       "98   dpw             0       1    1000  dpw\n",
       "99   dpw             1       6    1000  dpw\n",
       "\n",
       "[100 rows x 5 columns]"
      ]
     },
     "execution_count": 8,
     "metadata": {},
     "output_type": "execute_result"
    }
   ],
   "source": [
    "df_dpw = pd.read_csv(\"{}/dpw_{}/data_exp_0.csv\".format(env,budget))\n",
    "df_dpw['type'] = [\"dpw\"]*df_dpw.shape[0]\n",
    "df_dpw['agent'] = [\"dpw\"]*df_dpw.shape[0]\n",
    "df_dpw"
   ]
  },
  {
   "cell_type": "code",
   "execution_count": 11,
   "metadata": {},
   "outputs": [
    {
     "name": "stdout",
     "output_type": "stream",
     "text": [
      "       agent  total_reward  length   type  budget         seed  return\n",
      "449    10_pf             1       6     pf     NaN          NaN     NaN\n",
      "472    10_pf             1       6     pf     NaN          NaN     NaN\n",
      "471    10_pf             1       6     pf     NaN          NaN     NaN\n",
      "470    10_pf             1       6     pf     NaN          NaN     NaN\n",
      "469    10_pf             0       1     pf     NaN          NaN     NaN\n",
      "...      ...           ...     ...    ...     ...          ...     ...\n",
      "1371  random             0       3  paper  1000.0  646832786.0     0.0\n",
      "1372  random             0       3  paper  1000.0  646832798.0     0.0\n",
      "1373  random             0       1  paper  1000.0  646832868.0     0.0\n",
      "1375  random             0       3  paper  1000.0  646832849.0     0.0\n",
      "1349  random             0       5  paper  1000.0  646832817.0     0.0\n",
      "\n",
      "[1500 rows x 7 columns]\n"
     ]
    }
   ],
   "source": [
    "df2 = pd.read_csv(\"{}/paper_{}/data.csv\".format(env,budget))\n",
    "df2 = df2[~df2.agent.isin(['agent'])].apply(pd.to_numeric, errors='ignore')\n",
    "df2 = df2.sort_values(by=\"agent\")\n",
    "df2['type'] = [\"paper\"]*df2.shape[0]\n",
    "\n",
    "#dfs = [df2.copy(deep=True) for _ in range(len(particles))]\n",
    "\n",
    "#for i in range(len(particles)):\n",
    "#    dfs[i]['Particles'] = [particles[i]] * dfs[i].shape[0]\n",
    "    \n",
    "\n",
    "df3 = pd.concat([df, df2, df_dpw], ignore_index=True)\n",
    "df3 = df3.sort_values(by=\"agent\")\n",
    "\n",
    "\n",
    "print(df3)"
   ]
  },
  {
   "cell_type": "code",
   "execution_count": 13,
   "metadata": {},
   "outputs": [
    {
     "name": "stdout",
     "output_type": "stream",
     "text": [
      "Saving total_reward plot to Bridge/bridge_total_reward_10000.png\n"
     ]
    },
    {
     "data": {
      "image/png": "[encoded data removed]",
      "text/plain": [
       "<Figure size 1152x1152 with 1 Axes>"
      ]
     },
     "metadata": {},
     "output_type": "display_data"
    }
   ],
   "source": [
    "# print(\"Reading data from {}\".format(data_path))\n",
    "# df = pd.read_csv(data_path)\n",
    "# df = df[~df.agent.isin(['agent'])].apply(pd.to_numeric, errors='ignore')\n",
    "#df = df.sort_values(by=\"Particles\")\n",
    "\n",
    "for field in [\"total_reward\"]:\n",
    "    #fig, ax = plt.subplots()\n",
    "    sns.set(style=\"darkgrid\")\n",
    "    plt.figure(figsize=(16, 16))\n",
    "    # ax.set(xscale=\"log\")\n",
    "    # sns.barplot(x=\"Particles\", y=\"Cumulative reward\", hue=\"Particles\", data=df, dodge=False)\n",
    "    #sns.pointplot(x=\"Particles\", y=\"Cumulative reward\", ax=ax, data=df, join=False, grid=True)\n",
    "    plot = sns.pointplot(x=\"agent\", y=\"total_reward\", data=df3, hue=\"type\", legend=False, join=False,\n",
    "                        order=[\"2_pf\", \"4_pf\", \"6_pf\", \"8_pf\", \"10_pf\", \"12_pf\", \"14_pf\",\"16_pf\",\"18_pf\",\"20_pf\", \"dpw\", \"random\", \"deterministic\", \"olop\", \"kl-olop\"])\n",
    "    #plot2 = sns.pointplot(x=\"agent\", y=\"total_reward\", hue=\"type\", data=df, legend=False)\n",
    "    \n",
    "    plot.set_title(\"{} - Budget {}\".format(env, budget))\n",
    "\n",
    "    \n",
    "    field_path = \"{}/{}_{}_{}.png\".format(env, env.lower(), field, budget)\n",
    "    plot.get_figure().savefig(field_path, bbox_inches='tight')\n",
    "    # plt.show()\n",
    "    print(\"Saving {} plot to {}\".format(field, field_path))"
   ]
  },
  {
   "cell_type": "code",
   "execution_count": null,
   "metadata": {},
   "outputs": [],
   "source": []
  }
 ],
 "metadata": {
  "kernelspec": {
   "display_name": "Python 3",
   "language": "python",
   "name": "python3"
  },
  "language_info": {
   "codemirror_mode": {
    "name": "ipython",
    "version": 3
   },
   "file_extension": ".py",
   "mimetype": "text/x-python",
   "name": "python",
   "nbconvert_exporter": "python",
   "pygments_lexer": "ipython3",
   "version": "3.7.6"
  },
  "pycharm": {
   "stem_cell": {
    "cell_type": "raw",
    "metadata": {
     "collapsed": false
    },
    "source": []
   }
  }
 },
 "nbformat": 4,
 "nbformat_minor": 4
}
