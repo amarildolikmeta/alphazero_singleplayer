{
 "cells": [
  {
   "cell_type": "code",
   "execution_count": 1,
   "metadata": {},
   "outputs": [],
   "source": [
    "import pandas as pd\n",
    "import numpy as np\n",
    "import seaborn as sns\n",
    "import matplotlib.pyplot as plt\n",
    "from copy import deepcopy"
   ]
  },
  {
   "cell_type": "code",
   "execution_count": 2,
   "metadata": {},
   "outputs": [
    {
     "name": "stdout",
     "output_type": "stream",
     "text": [
      "/Users/diegopiccinotti/opt/anaconda3/bin/python\r\n"
     ]
    }
   ],
   "source": [
    "!which python"
   ]
  },
  {
   "cell_type": "code",
   "execution_count": 3,
   "metadata": {},
   "outputs": [],
   "source": [
    "budget = 1000\n",
    "env = \"RiverSwim\"\n",
    "particles = [2,4,6,8,10,12,14,16,18,20]\n",
    "\n",
    "df = pd.read_csv(\"{}/pf_{}/data_eval_pf_{}_{}.csv\".format(env,budget,env,budget))\n",
    "df['type'] = [\"pf\"]*df.shape[0]"
   ]
  },
  {
   "cell_type": "code",
   "execution_count": 4,
   "metadata": {},
   "outputs": [
    {
     "data": {
      "text/html": [
       "<div>\n",
       "<style scoped>\n",
       "    .dataframe tbody tr th:only-of-type {\n",
       "        vertical-align: middle;\n",
       "    }\n",
       "\n",
       "    .dataframe tbody tr th {\n",
       "        vertical-align: top;\n",
       "    }\n",
       "\n",
       "    .dataframe thead th {\n",
       "        text-align: right;\n",
       "    }\n",
       "</style>\n",
       "<table border=\"1\" class=\"dataframe\">\n",
       "  <thead>\n",
       "    <tr style=\"text-align: right;\">\n",
       "      <th></th>\n",
       "      <th>agent</th>\n",
       "      <th>total_reward</th>\n",
       "      <th>length</th>\n",
       "      <th>budget</th>\n",
       "      <th>type</th>\n",
       "    </tr>\n",
       "  </thead>\n",
       "  <tbody>\n",
       "    <tr>\n",
       "      <td>0</td>\n",
       "      <td>dpw</td>\n",
       "      <td>50.0</td>\n",
       "      <td>11</td>\n",
       "      <td>1000</td>\n",
       "      <td>dpw</td>\n",
       "    </tr>\n",
       "    <tr>\n",
       "      <td>1</td>\n",
       "      <td>dpw</td>\n",
       "      <td>45.0</td>\n",
       "      <td>11</td>\n",
       "      <td>1000</td>\n",
       "      <td>dpw</td>\n",
       "    </tr>\n",
       "    <tr>\n",
       "      <td>2</td>\n",
       "      <td>dpw</td>\n",
       "      <td>40.0</td>\n",
       "      <td>11</td>\n",
       "      <td>1000</td>\n",
       "      <td>dpw</td>\n",
       "    </tr>\n",
       "    <tr>\n",
       "      <td>3</td>\n",
       "      <td>dpw</td>\n",
       "      <td>45.0</td>\n",
       "      <td>11</td>\n",
       "      <td>1000</td>\n",
       "      <td>dpw</td>\n",
       "    </tr>\n",
       "    <tr>\n",
       "      <td>4</td>\n",
       "      <td>dpw</td>\n",
       "      <td>45.0</td>\n",
       "      <td>11</td>\n",
       "      <td>1000</td>\n",
       "      <td>dpw</td>\n",
       "    </tr>\n",
       "    <tr>\n",
       "      <td>...</td>\n",
       "      <td>...</td>\n",
       "      <td>...</td>\n",
       "      <td>...</td>\n",
       "      <td>...</td>\n",
       "      <td>...</td>\n",
       "    </tr>\n",
       "    <tr>\n",
       "      <td>95</td>\n",
       "      <td>dpw</td>\n",
       "      <td>45.0</td>\n",
       "      <td>11</td>\n",
       "      <td>1000</td>\n",
       "      <td>dpw</td>\n",
       "    </tr>\n",
       "    <tr>\n",
       "      <td>96</td>\n",
       "      <td>dpw</td>\n",
       "      <td>45.0</td>\n",
       "      <td>11</td>\n",
       "      <td>1000</td>\n",
       "      <td>dpw</td>\n",
       "    </tr>\n",
       "    <tr>\n",
       "      <td>97</td>\n",
       "      <td>dpw</td>\n",
       "      <td>50.0</td>\n",
       "      <td>11</td>\n",
       "      <td>1000</td>\n",
       "      <td>dpw</td>\n",
       "    </tr>\n",
       "    <tr>\n",
       "      <td>98</td>\n",
       "      <td>dpw</td>\n",
       "      <td>45.0</td>\n",
       "      <td>11</td>\n",
       "      <td>1000</td>\n",
       "      <td>dpw</td>\n",
       "    </tr>\n",
       "    <tr>\n",
       "      <td>99</td>\n",
       "      <td>dpw</td>\n",
       "      <td>50.0</td>\n",
       "      <td>11</td>\n",
       "      <td>1000</td>\n",
       "      <td>dpw</td>\n",
       "    </tr>\n",
       "  </tbody>\n",
       "</table>\n",
       "<p>100 rows × 5 columns</p>\n",
       "</div>"
      ],
      "text/plain": [
       "   agent  total_reward  length  budget type\n",
       "0    dpw          50.0      11    1000  dpw\n",
       "1    dpw          45.0      11    1000  dpw\n",
       "2    dpw          40.0      11    1000  dpw\n",
       "3    dpw          45.0      11    1000  dpw\n",
       "4    dpw          45.0      11    1000  dpw\n",
       "..   ...           ...     ...     ...  ...\n",
       "95   dpw          45.0      11    1000  dpw\n",
       "96   dpw          45.0      11    1000  dpw\n",
       "97   dpw          50.0      11    1000  dpw\n",
       "98   dpw          45.0      11    1000  dpw\n",
       "99   dpw          50.0      11    1000  dpw\n",
       "\n",
       "[100 rows x 5 columns]"
      ]
     },
     "execution_count": 4,
     "metadata": {},
     "output_type": "execute_result"
    }
   ],
   "source": [
    "df_dpw = pd.read_csv(\"{}/dpw_{}/dpw_mcts_only_{}_{}_data_exp_0.csv\".format(env,budget,env,budget))\n",
    "df_dpw['type'] = [\"dpw\"]*df_dpw.shape[0]\n",
    "df_dpw['agent'] = [\"dpw\"]*df_dpw.shape[0]\n",
    "df_dpw"
   ]
  },
  {
   "cell_type": "code",
   "execution_count": 5,
   "metadata": {},
   "outputs": [
    {
     "name": "stdout",
     "output_type": "stream",
     "text": [
      "       agent  budget  length    return         seed  total_reward   type\n",
      "449    10_pf    1000      11       NaN          NaN       45.0000     pf\n",
      "472    10_pf    1000      11       NaN          NaN       45.0000     pf\n",
      "471    10_pf    1000      11       NaN          NaN       45.0000     pf\n",
      "470    10_pf    1000      11       NaN          NaN       45.0000     pf\n",
      "469    10_pf    1000      11       NaN          NaN       50.0000     pf\n",
      "...      ...     ...     ...       ...          ...           ...    ...\n",
      "1371  random    1000      10  0.000377  965457055.0        0.0015  paper\n",
      "1372  random    1000      10  0.000362  965457119.0        0.0015  paper\n",
      "1373  random    1000      10  0.000000  965457130.0        0.0000  paper\n",
      "1375  random    1000      10  0.000151  965457117.0        0.0010  paper\n",
      "1349  random    1000      10  0.000650  965457054.0        0.0020  paper\n",
      "\n",
      "[1500 rows x 7 columns]\n"
     ]
    },
    {
     "name": "stderr",
     "output_type": "stream",
     "text": [
      "/Users/diegopiccinotti/opt/anaconda3/lib/python3.7/site-packages/ipykernel_launcher.py:12: FutureWarning: Sorting because non-concatenation axis is not aligned. A future version\n",
      "of pandas will change to not sort by default.\n",
      "\n",
      "To accept the future behavior, pass 'sort=False'.\n",
      "\n",
      "To retain the current behavior and silence the warning, pass 'sort=True'.\n",
      "\n",
      "  if sys.path[0] == '':\n"
     ]
    }
   ],
   "source": [
    "df2 = pd.read_csv(\"{}/paper_{}/data.csv\".format(env,budget))\n",
    "df2 = df2[~df2.agent.isin(['agent'])].apply(pd.to_numeric, errors='ignore')\n",
    "df2 = df2.sort_values(by=\"agent\")\n",
    "df2['type'] = [\"paper\"]*df2.shape[0]\n",
    "\n",
    "#dfs = [df2.copy(deep=True) for _ in range(len(particles))]\n",
    "\n",
    "#for i in range(len(particles)):\n",
    "#    dfs[i]['Particles'] = [particles[i]] * dfs[i].shape[0]\n",
    "    \n",
    "\n",
    "df3 = pd.concat([df, df2, df_dpw], ignore_index=True)\n",
    "df3 = df3.sort_values(by=\"agent\")\n",
    "\n",
    "\n",
    "print(df3)"
   ]
  },
  {
   "cell_type": "code",
   "execution_count": 6,
   "metadata": {},
   "outputs": [
    {
     "name": "stdout",
     "output_type": "stream",
     "text": [
      "Saving total_reward plot to RiverSwim/riverswim_total_reward_1000.png\n"
     ]
    },
    {
     "data": {
      "image/png": "[encoded data removed]",
      "text/plain": [
       "<Figure size 1152x1152 with 1 Axes>"
      ]
     },
     "metadata": {},
     "output_type": "display_data"
    }
   ],
   "source": [
    "# print(\"Reading data from {}\".format(data_path))\n",
    "# df = pd.read_csv(data_path)\n",
    "# df = df[~df.agent.isin(['agent'])].apply(pd.to_numeric, errors='ignore')\n",
    "#df = df.sort_values(by=\"Particles\")\n",
    "\n",
    "for field in [\"total_reward\"]:\n",
    "    #fig, ax = plt.subplots()\n",
    "    sns.set(style=\"darkgrid\")\n",
    "    plt.figure(figsize=(16, 16))\n",
    "    # ax.set(xscale=\"log\")\n",
    "    # sns.barplot(x=\"Particles\", y=\"Cumulative reward\", hue=\"Particles\", data=df, dodge=False)\n",
    "    #sns.pointplot(x=\"Particles\", y=\"Cumulative reward\", ax=ax, data=df, join=False, grid=True)\n",
    "    plot = sns.pointplot(x=\"agent\", y=\"total_reward\", data=df3, hue=\"type\", legend=False, join=False,\n",
    "                        order=[\"2_pf\", \"4_pf\", \"6_pf\", \"8_pf\", \"10_pf\", \"12_pf\", \"14_pf\",\"16_pf\",\"18_pf\",\"20_pf\", \"dpw\", \"random\", \"deterministic\", \"olop\", \"kl-olop\"])\n",
    "    #plot2 = sns.pointplot(x=\"agent\", y=\"total_reward\", hue=\"type\", data=df, legend=False)\n",
    "    \n",
    "    plot.set_title(\"{} - Budget {}\".format(env, budget))\n",
    "\n",
    "    \n",
    "    field_path = \"{}/{}_{}_{}.png\".format(env, env.lower(), field, budget)\n",
    "    plot.get_figure().savefig(field_path, bbox_inches='tight')\n",
    "    # plt.show()\n",
    "    print(\"Saving {} plot to {}\".format(field, field_path))"
   ]
  },
  {
   "cell_type": "code",
   "execution_count": null,
   "metadata": {},
   "outputs": [],
   "source": []
  }
 ],
 "metadata": {
  "kernelspec": {
   "display_name": "Python 3",
   "language": "python",
   "name": "python3"
  },
  "language_info": {
   "codemirror_mode": {
    "name": "ipython",
    "version": 3
   },
   "file_extension": ".py",
   "mimetype": "text/x-python",
   "name": "python",
   "nbconvert_exporter": "python",
   "pygments_lexer": "ipython3",
   "version": "3.7.4"
  },
  "pycharm": {
   "stem_cell": {
    "cell_type": "raw",
    "metadata": {
     "collapsed": false
    },
    "source": []
   }
  }
 },
 "nbformat": 4,
 "nbformat_minor": 4
}
